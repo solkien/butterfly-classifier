{
 "cells": [
  {
   "cell_type": "code",
   "source": [
    "from fastai.vision.all import *\n",
    "from fastai.vision.widgets import *"
   ],
   "metadata": {
    "id": "JCnlO8W2Yite"
   },
   "execution_count": 27,
   "outputs": []
  },
  {
   "cell_type": "code",
   "source": [
    "path = Path()\n",
    "learn_inf = load_learner(path/'export.pkl', cpu=True)\n",
    "btn_upload = widgets.FileUpload()\n",
    "out_pl = widgets.Output()\n",
    "lbl_pred = widgets.Label()"
   ],
   "metadata": {
    "id": "Rdyd_8KiYwox"
   },
   "execution_count": 28,
   "outputs": []
  },
  {
   "cell_type": "code",
   "source": [
    "def on_data_change(change):\n",
    "    lbl_pred.value = ''\n",
    "    img = PILImage.create(btn_upload.data[-1])\n",
    "    out_pl.clear_output()\n",
    "    with out_pl: display(img.to_thumb(128,128))\n",
    "    pred,pred_idx,probs = learn_inf.predict(img)\n",
    "    lbl_pred.value = f'Prediction: {pred}; Probability: {probs[pred_idx]:.04f}'"
   ],
   "metadata": {
    "id": "Us2ZgjZ4Yyd8"
   },
   "execution_count": 29,
   "outputs": []
  },
  {
   "cell_type": "code",
   "source": [
    "btn_upload.observe(on_data_change, names=['data'])"
   ],
   "metadata": {
    "id": "vo3VU7zcY185"
   },
   "execution_count": 30,
   "outputs": []
  },
  {
   "cell_type": "code",
   "source": [
    "display(VBox([widgets.Label('Select your butterfly!'), btn_upload, out_pl, lbl_pred]))"
   ],
   "metadata": {
    "colab": {
     "base_uri": "https://localhost:8080/",
     "height": 220,
     "referenced_widgets": [
      "1faa8163b2f34d5fadf939454908532c",
      "600e50b2300f4dd6b4e5b15e051fd20f",
      "8e6e9aa479a94f65bcbd8334e94221d0",
      "f5c15cddc64b44b1b783671547c27cbe",
      "5bb7004baf2a49af8216189d20c4b5e4",
      "1c0e6e59d1bc41519ece27ac6be32d99",
      "a11ef092a0a84f5ea01902eaa1a3af2f",
      "c24709934040484d8e24c8d43c8d408a",
      "b2f0dca2724c4590bbd7a5c1f82c6901",
      "00acd920221b49b5b9aef809a4e8c129",
      "3aac4208f9914d2aab627783667a5a91",
      "de2d2d3fdb9a4530b17bf85687a254ab",
      "988f609b6a5f407f85469bce51711937"
     ]
    },
    "id": "e0cgDf7fY3QT",
    "outputId": "8109139f-0629-469e-b615-893eba3eed7a"
   },
   "execution_count": 32,
   "outputs": [
    {
     "output_type": "display_data",
     "data": {
      "text/plain": [
       "VBox(children=(Label(value='Select your butterfly!'), FileUpload(value={}, description='Upload'), Output(), La…"
      ],
      "application/vnd.jupyter.widget-view+json": {
       "version_major": 2,
       "version_minor": 0,
       "model_id": "1faa8163b2f34d5fadf939454908532c"
      }
     },
     "metadata": {}
    },
    {
     "output_type": "display_data",
     "data": {
      "text/plain": [
       "<IPython.core.display.HTML object>"
      ],
      "text/html": [
       "\n",
       "<style>\n",
       "    /* Turns off some styling */\n",
       "    progress {\n",
       "        /* gets rid of default border in Firefox and Opera. */\n",
       "        border: none;\n",
       "        /* Needs to be in here for Safari polyfill so background images work as expected. */\n",
       "        background-size: auto;\n",
       "    }\n",
       "    progress:not([value]), progress:not([value])::-webkit-progress-bar {\n",
       "        background: repeating-linear-gradient(45deg, #7e7e7e, #7e7e7e 10px, #5c5c5c 10px, #5c5c5c 20px);\n",
       "    }\n",
       "    .progress-bar-interrupted, .progress-bar-interrupted::-webkit-progress-bar {\n",
       "        background: #F44336;\n",
       "    }\n",
       "</style>\n"
      ]
     },
     "metadata": {}
    },
    {
     "output_type": "display_data",
     "data": {
      "text/plain": [
       "<IPython.core.display.HTML object>"
      ],
      "text/html": []
     },
     "metadata": {}
    }
   ]
  }
 ],
 "metadata": {
  "jupytext": {
   "split_at_heading": true
  },
  "kernelspec": {
   "display_name": "Python 3",
   "name": "python3"
  },
  "colab": {
   "provenance": [],
   "gpuType": "T4"
  },
  "accelerator": "GPU",
  "widgets": {
   "application/vnd.jupyter.widget-state+json": {
    "5d9d8f7af3ac44398667a53e14fe39f3": {
     "model_module": "@jupyter-widgets/controls",
     "model_name": "HBoxModel",
     "model_module_version": "1.5.0",
     "state": {
      "_dom_classes": [],
      "_model_module": "@jupyter-widgets/controls",
      "_model_module_version": "1.5.0",
      "_model_name": "HBoxModel",
      "_view_count": null,
      "_view_module": "@jupyter-widgets/controls",
      "_view_module_version": "1.5.0",
      "_view_name": "HBoxView",
      "box_style": "",
      "children": [
       "IPY_MODEL_9de0f8d8d8374a1a834b4d7cf2bcab67",
       "IPY_MODEL_08e1c973880f4dcbbb1b9d6edf5bf4b4",
       "IPY_MODEL_525c42ac3724432ba792f4dfc01d90f4"
      ],
      "layout": "IPY_MODEL_ce07aca56bf34bf9b6f918ad3a2fa64a"
     }
    },
    "9de0f8d8d8374a1a834b4d7cf2bcab67": {
     "model_module": "@jupyter-widgets/controls",
     "model_name": "HTMLModel",
     "model_module_version": "1.5.0",
     "state": {
      "_dom_classes": [],
      "_model_module": "@jupyter-widgets/controls",
      "_model_module_version": "1.5.0",
      "_model_name": "HTMLModel",
      "_view_count": null,
      "_view_module": "@jupyter-widgets/controls",
      "_view_module_version": "1.5.0",
      "_view_name": "HTMLView",
      "description": "",
      "description_tooltip": null,
      "layout": "IPY_MODEL_96412b0082e94304b53864efa719dd9e",
      "placeholder": "​",
      "style": "IPY_MODEL_8b07b5864b3e4a7eb8eb6244db7aab59",
      "value": "Downloading model.safetensors: 100%"
     }
    },
    "08e1c973880f4dcbbb1b9d6edf5bf4b4": {
     "model_module": "@jupyter-widgets/controls",
     "model_name": "FloatProgressModel",
     "model_module_version": "1.5.0",
     "state": {
      "_dom_classes": [],
      "_model_module": "@jupyter-widgets/controls",
      "_model_module_version": "1.5.0",
      "_model_name": "FloatProgressModel",
      "_view_count": null,
      "_view_module": "@jupyter-widgets/controls",
      "_view_module_version": "1.5.0",
      "_view_name": "ProgressView",
      "bar_style": "success",
      "description": "",
      "description_tooltip": null,
      "layout": "IPY_MODEL_5b38d29845654e1a868bdeef291b2500",
      "max": 64198558,
      "min": 0,
      "orientation": "horizontal",
      "style": "IPY_MODEL_885ce0d76bcc4f94ab876a6da56177b1",
      "value": 64198558
     }
    },
    "525c42ac3724432ba792f4dfc01d90f4": {
     "model_module": "@jupyter-widgets/controls",
     "model_name": "HTMLModel",
     "model_module_version": "1.5.0",
     "state": {
      "_dom_classes": [],
      "_model_module": "@jupyter-widgets/controls",
      "_model_module_version": "1.5.0",
      "_model_name": "HTMLModel",
      "_view_count": null,
      "_view_module": "@jupyter-widgets/controls",
      "_view_module_version": "1.5.0",
      "_view_name": "HTMLView",
      "description": "",
      "description_tooltip": null,
      "layout": "IPY_MODEL_14082942fa4d4ee3909026b6c7341235",
      "placeholder": "​",
      "style": "IPY_MODEL_a514079d2b2145e1b5218465c75f1081",
      "value": " 64.2M/64.2M [00:00&lt;00:00, 88.8MB/s]"
     }
    },
    "ce07aca56bf34bf9b6f918ad3a2fa64a": {
     "model_module": "@jupyter-widgets/base",
     "model_name": "LayoutModel",
     "model_module_version": "1.2.0",
     "state": {
      "_model_module": "@jupyter-widgets/base",
      "_model_module_version": "1.2.0",
      "_model_name": "LayoutModel",
      "_view_count": null,
      "_view_module": "@jupyter-widgets/base",
      "_view_module_version": "1.2.0",
      "_view_name": "LayoutView",
      "align_content": null,
      "align_items": null,
      "align_self": null,
      "border": null,
      "bottom": null,
      "display": null,
      "flex": null,
      "flex_flow": null,
      "grid_area": null,
      "grid_auto_columns": null,
      "grid_auto_flow": null,
      "grid_auto_rows": null,
      "grid_column": null,
      "grid_gap": null,
      "grid_row": null,
      "grid_template_areas": null,
      "grid_template_columns": null,
      "grid_template_rows": null,
      "height": null,
      "justify_content": null,
      "justify_items": null,
      "left": null,
      "margin": null,
      "max_height": null,
      "max_width": null,
      "min_height": null,
      "min_width": null,
      "object_fit": null,
      "object_position": null,
      "order": null,
      "overflow": null,
      "overflow_x": null,
      "overflow_y": null,
      "padding": null,
      "right": null,
      "top": null,
      "visibility": null,
      "width": null
     }
    },
    "96412b0082e94304b53864efa719dd9e": {
     "model_module": "@jupyter-widgets/base",
     "model_name": "LayoutModel",
     "model_module_version": "1.2.0",
     "state": {
      "_model_module": "@jupyter-widgets/base",
      "_model_module_version": "1.2.0",
      "_model_name": "LayoutModel",
      "_view_count": null,
      "_view_module": "@jupyter-widgets/base",
      "_view_module_version": "1.2.0",
      "_view_name": "LayoutView",
      "align_content": null,
      "align_items": null,
      "align_self": null,
      "border": null,
      "bottom": null,
      "display": null,
      "flex": null,
      "flex_flow": null,
      "grid_area": null,
      "grid_auto_columns": null,
      "grid_auto_flow": null,
      "grid_auto_rows": null,
      "grid_column": null,
      "grid_gap": null,
      "grid_row": null,
      "grid_template_areas": null,
      "grid_template_columns": null,
      "grid_template_rows": null,
      "height": null,
      "justify_content": null,
      "justify_items": null,
      "left": null,
      "margin": null,
      "max_height": null,
      "max_width": null,
      "min_height": null,
      "min_width": null,
      "object_fit": null,
      "object_position": null,
      "order": null,
      "overflow": null,
      "overflow_x": null,
      "overflow_y": null,
      "padding": null,
      "right": null,
      "top": null,
      "visibility": null,
      "width": null
     }
    },
    "8b07b5864b3e4a7eb8eb6244db7aab59": {
     "model_module": "@jupyter-widgets/controls",
     "model_name": "DescriptionStyleModel",
     "model_module_version": "1.5.0",
     "state": {
      "_model_module": "@jupyter-widgets/controls",
      "_model_module_version": "1.5.0",
      "_model_name": "DescriptionStyleModel",
      "_view_count": null,
      "_view_module": "@jupyter-widgets/base",
      "_view_module_version": "1.2.0",
      "_view_name": "StyleView",
      "description_width": ""
     }
    },
    "5b38d29845654e1a868bdeef291b2500": {
     "model_module": "@jupyter-widgets/base",
     "model_name": "LayoutModel",
     "model_module_version": "1.2.0",
     "state": {
      "_model_module": "@jupyter-widgets/base",
      "_model_module_version": "1.2.0",
      "_model_name": "LayoutModel",
      "_view_count": null,
      "_view_module": "@jupyter-widgets/base",
      "_view_module_version": "1.2.0",
      "_view_name": "LayoutView",
      "align_content": null,
      "align_items": null,
      "align_self": null,
      "border": null,
      "bottom": null,
      "display": null,
      "flex": null,
      "flex_flow": null,
      "grid_area": null,
      "grid_auto_columns": null,
      "grid_auto_flow": null,
      "grid_auto_rows": null,
      "grid_column": null,
      "grid_gap": null,
      "grid_row": null,
      "grid_template_areas": null,
      "grid_template_columns": null,
      "grid_template_rows": null,
      "height": null,
      "justify_content": null,
      "justify_items": null,
      "left": null,
      "margin": null,
      "max_height": null,
      "max_width": null,
      "min_height": null,
      "min_width": null,
      "object_fit": null,
      "object_position": null,
      "order": null,
      "overflow": null,
      "overflow_x": null,
      "overflow_y": null,
      "padding": null,
      "right": null,
      "top": null,
      "visibility": null,
      "width": null
     }
    },
    "885ce0d76bcc4f94ab876a6da56177b1": {
     "model_module": "@jupyter-widgets/controls",
     "model_name": "ProgressStyleModel",
     "model_module_version": "1.5.0",
     "state": {
      "_model_module": "@jupyter-widgets/controls",
      "_model_module_version": "1.5.0",
      "_model_name": "ProgressStyleModel",
      "_view_count": null,
      "_view_module": "@jupyter-widgets/base",
      "_view_module_version": "1.2.0",
      "_view_name": "StyleView",
      "bar_color": null,
      "description_width": ""
     }
    },
    "14082942fa4d4ee3909026b6c7341235": {
     "model_module": "@jupyter-widgets/base",
     "model_name": "LayoutModel",
     "model_module_version": "1.2.0",
     "state": {
      "_model_module": "@jupyter-widgets/base",
      "_model_module_version": "1.2.0",
      "_model_name": "LayoutModel",
      "_view_count": null,
      "_view_module": "@jupyter-widgets/base",
      "_view_module_version": "1.2.0",
      "_view_name": "LayoutView",
      "align_content": null,
      "align_items": null,
      "align_self": null,
      "border": null,
      "bottom": null,
      "display": null,
      "flex": null,
      "flex_flow": null,
      "grid_area": null,
      "grid_auto_columns": null,
      "grid_auto_flow": null,
      "grid_auto_rows": null,
      "grid_column": null,
      "grid_gap": null,
      "grid_row": null,
      "grid_template_areas": null,
      "grid_template_columns": null,
      "grid_template_rows": null,
      "height": null,
      "justify_content": null,
      "justify_items": null,
      "left": null,
      "margin": null,
      "max_height": null,
      "max_width": null,
      "min_height": null,
      "min_width": null,
      "object_fit": null,
      "object_position": null,
      "order": null,
      "overflow": null,
      "overflow_x": null,
      "overflow_y": null,
      "padding": null,
      "right": null,
      "top": null,
      "visibility": null,
      "width": null
     }
    },
    "a514079d2b2145e1b5218465c75f1081": {
     "model_module": "@jupyter-widgets/controls",
     "model_name": "DescriptionStyleModel",
     "model_module_version": "1.5.0",
     "state": {
      "_model_module": "@jupyter-widgets/controls",
      "_model_module_version": "1.5.0",
      "_model_name": "DescriptionStyleModel",
      "_view_count": null,
      "_view_module": "@jupyter-widgets/base",
      "_view_module_version": "1.2.0",
      "_view_name": "StyleView",
      "description_width": ""
     }
    },
    "1faa8163b2f34d5fadf939454908532c": {
     "model_module": "@jupyter-widgets/controls",
     "model_name": "VBoxModel",
     "model_module_version": "1.5.0",
     "state": {
      "_dom_classes": [],
      "_model_module": "@jupyter-widgets/controls",
      "_model_module_version": "1.5.0",
      "_model_name": "VBoxModel",
      "_view_count": null,
      "_view_module": "@jupyter-widgets/controls",
      "_view_module_version": "1.5.0",
      "_view_name": "VBoxView",
      "box_style": "",
      "children": [
       "IPY_MODEL_600e50b2300f4dd6b4e5b15e051fd20f",
       "IPY_MODEL_8e6e9aa479a94f65bcbd8334e94221d0",
       "IPY_MODEL_f5c15cddc64b44b1b783671547c27cbe",
       "IPY_MODEL_5bb7004baf2a49af8216189d20c4b5e4"
      ],
      "layout": "IPY_MODEL_1c0e6e59d1bc41519ece27ac6be32d99"
     }
    },
    "600e50b2300f4dd6b4e5b15e051fd20f": {
     "model_module": "@jupyter-widgets/controls",
     "model_name": "LabelModel",
     "model_module_version": "1.5.0",
     "state": {
      "_dom_classes": [],
      "_model_module": "@jupyter-widgets/controls",
      "_model_module_version": "1.5.0",
      "_model_name": "LabelModel",
      "_view_count": null,
      "_view_module": "@jupyter-widgets/controls",
      "_view_module_version": "1.5.0",
      "_view_name": "LabelView",
      "description": "",
      "description_tooltip": null,
      "layout": "IPY_MODEL_a11ef092a0a84f5ea01902eaa1a3af2f",
      "placeholder": "​",
      "style": "IPY_MODEL_c24709934040484d8e24c8d43c8d408a",
      "value": "Select your butterfly!"
     }
    },
    "8e6e9aa479a94f65bcbd8334e94221d0": {
     "model_module": "@jupyter-widgets/controls",
     "model_name": "FileUploadModel",
     "model_module_version": "1.5.0",
     "state": {
      "_counter": 1,
      "_dom_classes": [],
      "_model_module": "@jupyter-widgets/controls",
      "_model_module_version": "1.5.0",
      "_model_name": "FileUploadModel",
      "_view_count": null,
      "_view_module": "@jupyter-widgets/controls",
      "_view_module_version": "1.5.0",
      "_view_name": "FileUploadView",
      "accept": "",
      "button_style": "",
      "data": [
       null
      ],
      "description": "Upload",
      "description_tooltip": null,
      "disabled": false,
      "error": "",
      "icon": "upload",
      "layout": "IPY_MODEL_b2f0dca2724c4590bbd7a5c1f82c6901",
      "metadata": [
       {
        "name": "gonepteryx_rhamni.jpg",
        "type": "image/jpeg",
        "size": 7175,
        "lastModified": 1696317331140
       }
      ],
      "multiple": false,
      "style": "IPY_MODEL_00acd920221b49b5b9aef809a4e8c129"
     }
    },
    "f5c15cddc64b44b1b783671547c27cbe": {
     "model_module": "@jupyter-widgets/output",
     "model_name": "OutputModel",
     "model_module_version": "1.0.0",
     "state": {
      "_dom_classes": [],
      "_model_module": "@jupyter-widgets/output",
      "_model_module_version": "1.0.0",
      "_model_name": "OutputModel",
      "_view_count": null,
      "_view_module": "@jupyter-widgets/output",
      "_view_module_version": "1.0.0",
      "_view_name": "OutputView",
      "layout": "IPY_MODEL_988f609b6a5f407f85469bce51711937",
      "msg_id": "",
      "outputs": [
       {
        "output_type": "display_data",
        "data": {
         "text/plain": "<PIL.Image.Image image mode=RGB size=128x107>",
         "image/png": "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\n"
        },
        "metadata": {}
       }
      ]
     }
    },
    "5bb7004baf2a49af8216189d20c4b5e4": {
     "model_module": "@jupyter-widgets/controls",
     "model_name": "LabelModel",
     "model_module_version": "1.5.0",
     "state": {
      "_dom_classes": [],
      "_model_module": "@jupyter-widgets/controls",
      "_model_module_version": "1.5.0",
      "_model_name": "LabelModel",
      "_view_count": null,
      "_view_module": "@jupyter-widgets/controls",
      "_view_module_version": "1.5.0",
      "_view_name": "LabelView",
      "description": "",
      "description_tooltip": null,
      "layout": "IPY_MODEL_3aac4208f9914d2aab627783667a5a91",
      "placeholder": "​",
      "style": "IPY_MODEL_de2d2d3fdb9a4530b17bf85687a254ab",
      "value": "Prediction: gonepteryx rhamni; Probability: 1.0000"
     }
    },
    "1c0e6e59d1bc41519ece27ac6be32d99": {
     "model_module": "@jupyter-widgets/base",
     "model_name": "LayoutModel",
     "model_module_version": "1.2.0",
     "state": {
      "_model_module": "@jupyter-widgets/base",
      "_model_module_version": "1.2.0",
      "_model_name": "LayoutModel",
      "_view_count": null,
      "_view_module": "@jupyter-widgets/base",
      "_view_module_version": "1.2.0",
      "_view_name": "LayoutView",
      "align_content": null,
      "align_items": null,
      "align_self": null,
      "border": null,
      "bottom": null,
      "display": null,
      "flex": null,
      "flex_flow": null,
      "grid_area": null,
      "grid_auto_columns": null,
      "grid_auto_flow": null,
      "grid_auto_rows": null,
      "grid_column": null,
      "grid_gap": null,
      "grid_row": null,
      "grid_template_areas": null,
      "grid_template_columns": null,
      "grid_template_rows": null,
      "height": null,
      "justify_content": null,
      "justify_items": null,
      "left": null,
      "margin": null,
      "max_height": null,
      "max_width": null,
      "min_height": null,
      "min_width": null,
      "object_fit": null,
      "object_position": null,
      "order": null,
      "overflow": null,
      "overflow_x": null,
      "overflow_y": null,
      "padding": null,
      "right": null,
      "top": null,
      "visibility": null,
      "width": null
     }
    },
    "a11ef092a0a84f5ea01902eaa1a3af2f": {
     "model_module": "@jupyter-widgets/base",
     "model_name": "LayoutModel",
     "model_module_version": "1.2.0",
     "state": {
      "_model_module": "@jupyter-widgets/base",
      "_model_module_version": "1.2.0",
      "_model_name": "LayoutModel",
      "_view_count": null,
      "_view_module": "@jupyter-widgets/base",
      "_view_module_version": "1.2.0",
      "_view_name": "LayoutView",
      "align_content": null,
      "align_items": null,
      "align_self": null,
      "border": null,
      "bottom": null,
      "display": null,
      "flex": null,
      "flex_flow": null,
      "grid_area": null,
      "grid_auto_columns": null,
      "grid_auto_flow": null,
      "grid_auto_rows": null,
      "grid_column": null,
      "grid_gap": null,
      "grid_row": null,
      "grid_template_areas": null,
      "grid_template_columns": null,
      "grid_template_rows": null,
      "height": null,
      "justify_content": null,
      "justify_items": null,
      "left": null,
      "margin": null,
      "max_height": null,
      "max_width": null,
      "min_height": null,
      "min_width": null,
      "object_fit": null,
      "object_position": null,
      "order": null,
      "overflow": null,
      "overflow_x": null,
      "overflow_y": null,
      "padding": null,
      "right": null,
      "top": null,
      "visibility": null,
      "width": null
     }
    },
    "c24709934040484d8e24c8d43c8d408a": {
     "model_module": "@jupyter-widgets/controls",
     "model_name": "DescriptionStyleModel",
     "model_module_version": "1.5.0",
     "state": {
      "_model_module": "@jupyter-widgets/controls",
      "_model_module_version": "1.5.0",
      "_model_name": "DescriptionStyleModel",
      "_view_count": null,
      "_view_module": "@jupyter-widgets/base",
      "_view_module_version": "1.2.0",
      "_view_name": "StyleView",
      "description_width": ""
     }
    },
    "b2f0dca2724c4590bbd7a5c1f82c6901": {
     "model_module": "@jupyter-widgets/base",
     "model_name": "LayoutModel",
     "model_module_version": "1.2.0",
     "state": {
      "_model_module": "@jupyter-widgets/base",
      "_model_module_version": "1.2.0",
      "_model_name": "LayoutModel",
      "_view_count": null,
      "_view_module": "@jupyter-widgets/base",
      "_view_module_version": "1.2.0",
      "_view_name": "LayoutView",
      "align_content": null,
      "align_items": null,
      "align_self": null,
      "border": null,
      "bottom": null,
      "display": null,
      "flex": null,
      "flex_flow": null,
      "grid_area": null,
      "grid_auto_columns": null,
      "grid_auto_flow": null,
      "grid_auto_rows": null,
      "grid_column": null,
      "grid_gap": null,
      "grid_row": null,
      "grid_template_areas": null,
      "grid_template_columns": null,
      "grid_template_rows": null,
      "height": null,
      "justify_content": null,
      "justify_items": null,
      "left": null,
      "margin": null,
      "max_height": null,
      "max_width": null,
      "min_height": null,
      "min_width": null,
      "object_fit": null,
      "object_position": null,
      "order": null,
      "overflow": null,
      "overflow_x": null,
      "overflow_y": null,
      "padding": null,
      "right": null,
      "top": null,
      "visibility": null,
      "width": null
     }
    },
    "00acd920221b49b5b9aef809a4e8c129": {
     "model_module": "@jupyter-widgets/controls",
     "model_name": "ButtonStyleModel",
     "model_module_version": "1.5.0",
     "state": {
      "_model_module": "@jupyter-widgets/controls",
      "_model_module_version": "1.5.0",
      "_model_name": "ButtonStyleModel",
      "_view_count": null,
      "_view_module": "@jupyter-widgets/base",
      "_view_module_version": "1.2.0",
      "_view_name": "StyleView",
      "button_color": null,
      "font_weight": ""
     }
    },
    "3aac4208f9914d2aab627783667a5a91": {
     "model_module": "@jupyter-widgets/base",
     "model_name": "LayoutModel",
     "model_module_version": "1.2.0",
     "state": {
      "_model_module": "@jupyter-widgets/base",
      "_model_module_version": "1.2.0",
      "_model_name": "LayoutModel",
      "_view_count": null,
      "_view_module": "@jupyter-widgets/base",
      "_view_module_version": "1.2.0",
      "_view_name": "LayoutView",
      "align_content": null,
      "align_items": null,
      "align_self": null,
      "border": null,
      "bottom": null,
      "display": null,
      "flex": null,
      "flex_flow": null,
      "grid_area": null,
      "grid_auto_columns": null,
      "grid_auto_flow": null,
      "grid_auto_rows": null,
      "grid_column": null,
      "grid_gap": null,
      "grid_row": null,
      "grid_template_areas": null,
      "grid_template_columns": null,
      "grid_template_rows": null,
      "height": null,
      "justify_content": null,
      "justify_items": null,
      "left": null,
      "margin": null,
      "max_height": null,
      "max_width": null,
      "min_height": null,
      "min_width": null,
      "object_fit": null,
      "object_position": null,
      "order": null,
      "overflow": null,
      "overflow_x": null,
      "overflow_y": null,
      "padding": null,
      "right": null,
      "top": null,
      "visibility": null,
      "width": null
     }
    },
    "de2d2d3fdb9a4530b17bf85687a254ab": {
     "model_module": "@jupyter-widgets/controls",
     "model_name": "DescriptionStyleModel",
     "model_module_version": "1.5.0",
     "state": {
      "_model_module": "@jupyter-widgets/controls",
      "_model_module_version": "1.5.0",
      "_model_name": "DescriptionStyleModel",
      "_view_count": null,
      "_view_module": "@jupyter-widgets/base",
      "_view_module_version": "1.2.0",
      "_view_name": "StyleView",
      "description_width": ""
     }
    },
    "988f609b6a5f407f85469bce51711937": {
     "model_module": "@jupyter-widgets/base",
     "model_name": "LayoutModel",
     "model_module_version": "1.2.0",
     "state": {
      "_model_module": "@jupyter-widgets/base",
      "_model_module_version": "1.2.0",
      "_model_name": "LayoutModel",
      "_view_count": null,
      "_view_module": "@jupyter-widgets/base",
      "_view_module_version": "1.2.0",
      "_view_name": "LayoutView",
      "align_content": null,
      "align_items": null,
      "align_self": null,
      "border": null,
      "bottom": null,
      "display": null,
      "flex": null,
      "flex_flow": null,
      "grid_area": null,
      "grid_auto_columns": null,
      "grid_auto_flow": null,
      "grid_auto_rows": null,
      "grid_column": null,
      "grid_gap": null,
      "grid_row": null,
      "grid_template_areas": null,
      "grid_template_columns": null,
      "grid_template_rows": null,
      "height": null,
      "justify_content": null,
      "justify_items": null,
      "left": null,
      "margin": null,
      "max_height": null,
      "max_width": null,
      "min_height": null,
      "min_width": null,
      "object_fit": null,
      "object_position": null,
      "order": null,
      "overflow": null,
      "overflow_x": null,
      "overflow_y": null,
      "padding": null,
      "right": null,
      "top": null,
      "visibility": null,
      "width": null
     }
    }
   }
  }
 },
 "nbformat": 4,
 "nbformat_minor": 0
}
